{
 "cells": [
  {
   "cell_type": "code",
   "execution_count": 8,
   "metadata": {},
   "outputs": [],
   "source": [
    "import tkinter as tk\n",
    "import time\n",
    "\n",
    "\n",
    "class Stopwatch:\n",
    "    def __init__(self, master):\n",
    "        self.master = master\n",
    "        master.title(\"Stopwatch\")\n",
    "\n",
    "        self.start_time = 0\n",
    "        self.elapsed_time = 0\n",
    "        self.is_running = False\n",
    "\n",
    "        self.time_text = tk.StringVar()\n",
    "        self.time_text.set(\"00:00:00\")\n",
    "\n",
    "        self.label = tk.Label(\n",
    "            master, textvariable=self.time_text, font=(\"Helvetica\", 48))\n",
    "        self.label.pack()\n",
    "\n",
    "        self.start_button = tk.Button(master, text=\"Start\", command=self.start)\n",
    "        self.start_button.pack()\n",
    "\n",
    "        self.stop_button = tk.Button(master, text=\"Stop\", command=self.stop)\n",
    "        self.stop_button.pack()\n",
    "\n",
    "        self.reset_button = tk.Button(master, text=\"Reset\", command=self.reset)\n",
    "        self.reset_button.pack()\n",
    "\n",
    "    def start(self):\n",
    "        if not self.is_running:\n",
    "            self.start_time = time.time() - self.elapsed_time\n",
    "            self.is_running = True\n",
    "            self.update_time()\n",
    "\n",
    "    def stop(self):\n",
    "        if self.is_running:\n",
    "            self.is_running = False\n",
    "\n",
    "    def reset(self):\n",
    "        self.start_time = 0\n",
    "        self.elapsed_time = 0\n",
    "        self.is_running = False\n",
    "        self.time_text.set(\"00:00:00\")\n",
    "\n",
    "    def update_time(self):\n",
    "        if self.is_running:\n",
    "            self.elapsed_time = time.time() - self.start_time\n",
    "            minutes, seconds = divmod(self.elapsed_time, 60)\n",
    "            hours, minutes = divmod(minutes, 60)\n",
    "            self.time_text.set(\"{:02d}:{:02d}:{:02d}\".format(\n",
    "                int(hours), int(minutes), int(seconds)))\n",
    "            self.label.after(10, self.update_time)\n",
    "\n",
    "\n",
    "root = tk.Tk()\n",
    "stopwatch = Stopwatch(root)\n",
    "root.mainloop()\n"
   ]
  }
 ],
 "metadata": {
  "kernelspec": {
   "display_name": "Python 3.10.4 64-bit",
   "language": "python",
   "name": "python3"
  },
  "language_info": {
   "codemirror_mode": {
    "name": "ipython",
    "version": 3
   },
   "file_extension": ".py",
   "mimetype": "text/x-python",
   "name": "python",
   "nbconvert_exporter": "python",
   "pygments_lexer": "ipython3",
   "version": "3.10.4"
  },
  "orig_nbformat": 4,
  "vscode": {
   "interpreter": {
    "hash": "26de051ba29f2982a8de78e945f0abaf191376122a1563185a90213a26c5da77"
   }
  }
 },
 "nbformat": 4,
 "nbformat_minor": 2
}
